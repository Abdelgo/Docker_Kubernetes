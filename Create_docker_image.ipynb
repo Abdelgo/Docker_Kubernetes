{
 "cells": [
  {
   "cell_type": "code",
   "execution_count": 1,
   "id": "8080130b-3b7b-4ed8-bbbd-51ddd4b04332",
   "metadata": {},
   "outputs": [
    {
     "data": {
      "text/plain": [
       "'/Users/livai/Desktop/CAPITAL/DOCKER_Kubernetes'"
      ]
     },
     "execution_count": 1,
     "metadata": {},
     "output_type": "execute_result"
    }
   ],
   "source": [
    "pwd"
   ]
  }
 ],
 "metadata": {
  "kernelspec": {
   "display_name": "Python [conda env:Python37-BestPractice] *",
   "language": "python",
   "name": "conda-env-Python37-BestPractice-py"
  },
  "language_info": {
   "codemirror_mode": {
    "name": "ipython",
    "version": 3
   },
   "file_extension": ".py",
   "mimetype": "text/x-python",
   "name": "python",
   "nbconvert_exporter": "python",
   "pygments_lexer": "ipython3",
   "version": "3.7.10"
  }
 },
 "nbformat": 4,
 "nbformat_minor": 5
}
